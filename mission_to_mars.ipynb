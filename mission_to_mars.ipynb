{
 "cells": [
  {
   "cell_type": "code",
   "execution_count": 165,
   "id": "b4674b15-76ee-498d-8d30-deb29ebacd85",
   "metadata": {},
   "outputs": [],
   "source": [
    "#import libraries and dependecies\n",
    "import pandas as pd\n",
    "from bs4 import BeautifulSoup as soup \n",
    "from splinter import Browser\n",
    "from webdriver_manager.chrome import ChromeDriverManager"
   ]
  },
  {
   "cell_type": "code",
   "execution_count": 166,
   "id": "a7902c1d-b856-4cbf-bb1a-37f1d5711af6",
   "metadata": {},
   "outputs": [
    {
     "name": "stderr",
     "output_type": "stream",
     "text": [
      "\n",
      "\n",
      "====== WebDriver manager ======\n",
      "Current google-chrome version is 97.0.4692\n",
      "Get LATEST chromedriver version for 97.0.4692 google-chrome\n",
      "Driver [C:\\Users\\Victor M Diaz\\.wdm\\drivers\\chromedriver\\win32\\97.0.4692.71\\chromedriver.exe] found in cache\n"
     ]
    }
   ],
   "source": [
    "# Set the executable path and start splinter\n",
    "executable_path = {'executable_path': ChromeDriverManager().install()}\n",
    "browser = Browser('chrome', **executable_path, headless=False)"
   ]
  },
  {
   "cell_type": "code",
   "execution_count": 167,
   "id": "6e7e6c80-3c3e-463a-8db0-485bef5beb0d",
   "metadata": {},
   "outputs": [],
   "source": [
    "#----------------------------------NASA Mars News---------------------------------------------------------------------------------------"
   ]
  },
  {
   "cell_type": "code",
   "execution_count": 168,
   "id": "1fd07f8e-169c-4794-a04b-b4c13e031f71",
   "metadata": {},
   "outputs": [],
   "source": [
    "# Convert the browser to a soup object and then quit browser\n",
    "redplanet_url = 'https://redplanetscience.com/'\n",
    "browser.visit(redplanet_url)"
   ]
  },
  {
   "cell_type": "code",
   "execution_count": 169,
   "id": "35eb94d0-1850-469f-964b-c11df84948e8",
   "metadata": {},
   "outputs": [],
   "source": [
    "html = browser.html\n",
    "#print (html)\n",
    "\n",
    "#store in soup\n",
    "redplanet_soup = soup(html,\"html.parser\") "
   ]
  },
  {
   "cell_type": "code",
   "execution_count": 170,
   "id": "ff6927c2-92cf-4f74-a5fd-4a441674a951",
   "metadata": {},
   "outputs": [
    {
     "name": "stdout",
     "output_type": "stream",
     "text": [
      "<div class=\"list_text\">\n",
      "<div class=\"list_date\">January 24, 2022</div>\n",
      "<div class=\"content_title\">Space History Is Made in This NASA Robot Factory</div>\n",
      "<div class=\"article_teaser_body\">From rockets to rovers, JPL's Spacecraft Assembly Facility has been at the center of robotic spaceflight. Here's a closer look at what makes it so special.</div>\n",
      "</div>\n"
     ]
    }
   ],
   "source": [
    "#read webpage html\n",
    "redplanet_news = redplanet_soup.select_one(\"div.list_text\")\n",
    "print(newselement)"
   ]
  },
  {
   "cell_type": "code",
   "execution_count": 171,
   "id": "10df8479-0cab-4e0e-a50b-3bcf5ffb5c02",
   "metadata": {},
   "outputs": [
    {
     "name": "stdout",
     "output_type": "stream",
     "text": [
      "NASA Establishes Board to Initially Review Mars Sample Return Plans\n"
     ]
    }
   ],
   "source": [
    "#Open the HTML div and class \n",
    "news_title  = redplanet_news.find(\"div\", class_= \"content_title\").get_text()\n",
    "print (news_title)"
   ]
  },
  {
   "cell_type": "code",
   "execution_count": 172,
   "id": "ad924285-584a-4115-ba1f-f835d07e60f7",
   "metadata": {},
   "outputs": [
    {
     "name": "stdout",
     "output_type": "stream",
     "text": [
      "The board will assist with analysis of current plans and goals for one of the most difficult missions humanity has ever undertaken.\n"
     ]
    }
   ],
   "source": [
    "newspara = redplanet_news.find(\"div\", class_= \"article_teaser_body\").get_text()\n",
    "print ( newspara)"
   ]
  },
  {
   "cell_type": "code",
   "execution_count": 173,
   "id": "96ff987b-f5e8-4435-b27d-160d6a15e3ce",
   "metadata": {},
   "outputs": [
    {
     "name": "stdout",
     "output_type": "stream",
     "text": [
      "January 25, 2022\n"
     ]
    }
   ],
   "source": [
    "# get the date of the webpage\n",
    "news_date = redplanet_news.find(\"div\", class_= \"list_date\").get_text()\n",
    "print (news_date)"
   ]
  },
  {
   "cell_type": "code",
   "execution_count": 174,
   "id": "57d142d8-fe78-4629-ba4d-3285e15cdb4c",
   "metadata": {},
   "outputs": [],
   "source": [
    "#------------------------JPL Mars Space Images - Featured Image--------------------------------------------------\n",
    "#get the image from spaceimages-mars webpage"
   ]
  },
  {
   "cell_type": "code",
   "execution_count": 175,
   "id": "4eb017c6-3951-4cd3-9ac1-dc1835266e52",
   "metadata": {},
   "outputs": [],
   "source": [
    "spaceimage_url = 'https://spaceimages-mars.com/'\n",
    "browser.visit(spaceimage_url)"
   ]
  },
  {
   "cell_type": "code",
   "execution_count": 176,
   "id": "f48637e5-949d-4db5-9265-2b049d086eb5",
   "metadata": {},
   "outputs": [],
   "source": [
    "#print (html)\n",
    "html = browser.html\n",
    "\n",
    "#print the space_image_soup\n",
    "space_image_soup =soup(html,\"html.parser\") "
   ]
  },
  {
   "cell_type": "code",
   "execution_count": 177,
   "id": "8c14afd6-602a-4a28-9fb6-7800da2a51ed",
   "metadata": {},
   "outputs": [
    {
     "name": "stdout",
     "output_type": "stream",
     "text": [
      "image/featured/mars1.jpg\n"
     ]
    }
   ],
   "source": [
    "#grab the header image fade-in of the picture\n",
    "image_element = space_image_soup.select_one(\"img.headerimage.fade-in\")\n",
    "print(image_element[\"src\"])"
   ]
  },
  {
   "cell_type": "code",
   "execution_count": 178,
   "id": "4f391d03-655f-49ca-945a-063d642f3bab",
   "metadata": {},
   "outputs": [
    {
     "data": {
      "text/plain": [
       "'https://spaceimages-mars.com/image/featured/mars1.jpg'"
      ]
     },
     "execution_count": 178,
     "metadata": {},
     "output_type": "execute_result"
    }
   ],
   "source": [
    "#grab the header and url\n",
    "featured_image_url = spaceimage_url + image_element[\"src\"]\n",
    "featured_image_url"
   ]
  },
  {
   "cell_type": "code",
   "execution_count": 179,
   "id": "d796fb2c-603d-425f-927f-671bb3e6ff05",
   "metadata": {},
   "outputs": [],
   "source": [
    "#-----------------------Mars Facts-----------------------------------------------------------"
   ]
  },
  {
   "cell_type": "code",
   "execution_count": 183,
   "id": "ce87ddd2-bcb1-4d3b-8bfb-903f21ac54a9",
   "metadata": {},
   "outputs": [
    {
     "data": {
      "text/plain": [
       "[                         0                1                2\n",
       " 0  Mars - Earth Comparison             Mars            Earth\n",
       " 1                Diameter:         6,779 km        12,742 km\n",
       " 2                    Mass:  6.39 × 10^23 kg  5.97 × 10^24 kg\n",
       " 3                   Moons:                2                1\n",
       " 4       Distance from Sun:   227,943,824 km   149,598,262 km\n",
       " 5          Length of Year:   687 Earth days      365.24 days\n",
       " 6             Temperature:     -87 to -5 °C      -88 to 58°C,\n",
       "                       0                              1\n",
       " 0  Equatorial Diameter:                       6,792 km\n",
       " 1       Polar Diameter:                       6,752 km\n",
       " 2                 Mass:  6.39 × 10^23 kg (0.11 Earths)\n",
       " 3                Moons:          2 ( Phobos & Deimos )\n",
       " 4       Orbit Distance:       227,943,824 km (1.38 AU)\n",
       " 5         Orbit Period:           687 days (1.9 years)\n",
       " 6  Surface Temperature:                   -87 to -5 °C\n",
       " 7         First Record:              2nd millennium BC\n",
       " 8          Recorded By:           Egyptian astronomers]"
      ]
     },
     "execution_count": 183,
     "metadata": {},
     "output_type": "execute_result"
    }
   ],
   "source": [
    "#call the website\n",
    "galaxy_url = 'https://galaxyfacts-mars.com/'\n",
    "mars_tables = pd.read_html(galaxy_url)\n",
    "mars_tables"
   ]
  },
  {
   "cell_type": "code",
   "execution_count": 186,
   "id": "d6565d24-5893-4268-94ee-b9719087f18b",
   "metadata": {},
   "outputs": [
    {
     "data": {
      "text/html": [
       "<div>\n",
       "<style scoped>\n",
       "    .dataframe tbody tr th:only-of-type {\n",
       "        vertical-align: middle;\n",
       "    }\n",
       "\n",
       "    .dataframe tbody tr th {\n",
       "        vertical-align: top;\n",
       "    }\n",
       "\n",
       "    .dataframe thead th {\n",
       "        text-align: right;\n",
       "    }\n",
       "</style>\n",
       "<table border=\"1\" class=\"dataframe\">\n",
       "  <thead>\n",
       "    <tr style=\"text-align: right;\">\n",
       "      <th></th>\n",
       "      <th>Mars - Earth Comparison</th>\n",
       "      <th>Mars</th>\n",
       "      <th>Earth</th>\n",
       "    </tr>\n",
       "  </thead>\n",
       "  <tbody>\n",
       "    <tr>\n",
       "      <th>1</th>\n",
       "      <td>Diameter:</td>\n",
       "      <td>6,779 km</td>\n",
       "      <td>12,742 km</td>\n",
       "    </tr>\n",
       "    <tr>\n",
       "      <th>2</th>\n",
       "      <td>Mass:</td>\n",
       "      <td>6.39 × 10^23 kg</td>\n",
       "      <td>5.97 × 10^24 kg</td>\n",
       "    </tr>\n",
       "    <tr>\n",
       "      <th>3</th>\n",
       "      <td>Moons:</td>\n",
       "      <td>2</td>\n",
       "      <td>1</td>\n",
       "    </tr>\n",
       "    <tr>\n",
       "      <th>4</th>\n",
       "      <td>Distance from Sun:</td>\n",
       "      <td>227,943,824 km</td>\n",
       "      <td>149,598,262 km</td>\n",
       "    </tr>\n",
       "    <tr>\n",
       "      <th>5</th>\n",
       "      <td>Length of Year:</td>\n",
       "      <td>687 Earth days</td>\n",
       "      <td>365.24 days</td>\n",
       "    </tr>\n",
       "    <tr>\n",
       "      <th>6</th>\n",
       "      <td>Temperature:</td>\n",
       "      <td>-87 to -5 °C</td>\n",
       "      <td>-88 to 58°C</td>\n",
       "    </tr>\n",
       "  </tbody>\n",
       "</table>\n",
       "</div>"
      ],
      "text/plain": [
       "0 Mars - Earth Comparison             Mars            Earth\n",
       "1               Diameter:         6,779 km        12,742 km\n",
       "2                   Mass:  6.39 × 10^23 kg  5.97 × 10^24 kg\n",
       "3                  Moons:                2                1\n",
       "4      Distance from Sun:   227,943,824 km   149,598,262 km\n",
       "5         Length of Year:   687 Earth days      365.24 days\n",
       "6            Temperature:     -87 to -5 °C      -88 to 58°C"
      ]
     },
     "execution_count": 186,
     "metadata": {},
     "output_type": "execute_result"
    }
   ],
   "source": [
    "#clean up the table\n",
    "Mars_facts = tables[0]\n",
    "Mars_facts.columns =Mars_facts.iloc[0]\n",
    "Mars_facts = Mars_facts.drop([0])\n",
    "Mars_facts"
   ]
  },
  {
   "cell_type": "code",
   "execution_count": 187,
   "id": "582e4dfa-dec4-45bf-9906-01f14c4eeb4d",
   "metadata": {},
   "outputs": [
    {
     "data": {
      "text/plain": [
       "'<table border=\"1\" class=\"dataframe\">\\n  <thead>\\n    <tr style=\"text-align: right;\">\\n      <th></th>\\n      <th>Mars - Earth Comparison</th>\\n      <th>Mars</th>\\n      <th>Earth</th>\\n    </tr>\\n  </thead>\\n  <tbody>\\n    <tr>\\n      <th>1</th>\\n      <td>Diameter:</td>\\n      <td>6,779 km</td>\\n      <td>12,742 km</td>\\n    </tr>\\n    <tr>\\n      <th>2</th>\\n      <td>Mass:</td>\\n      <td>6.39 × 10^23 kg</td>\\n      <td>5.97 × 10^24 kg</td>\\n    </tr>\\n    <tr>\\n      <th>3</th>\\n      <td>Moons:</td>\\n      <td>2</td>\\n      <td>1</td>\\n    </tr>\\n    <tr>\\n      <th>4</th>\\n      <td>Distance from Sun:</td>\\n      <td>227,943,824 km</td>\\n      <td>149,598,262 km</td>\\n    </tr>\\n    <tr>\\n      <th>5</th>\\n      <td>Length of Year:</td>\\n      <td>687 Earth days</td>\\n      <td>365.24 days</td>\\n    </tr>\\n    <tr>\\n      <th>6</th>\\n      <td>Temperature:</td>\\n      <td>-87 to -5 °C</td>\\n      <td>-88 to 58°C</td>\\n    </tr>\\n  </tbody>\\n</table>'"
      ]
     },
     "execution_count": 187,
     "metadata": {},
     "output_type": "execute_result"
    }
   ],
   "source": [
    "html_Mars_facts = df_Mars_facts.to_html()\n",
    "html_Mars_facts"
   ]
  },
  {
   "cell_type": "code",
   "execution_count": 189,
   "id": "46c79c52-1eaa-4ff3-9469-9d252fa537f0",
   "metadata": {},
   "outputs": [],
   "source": [
    "#----------------------Mars Hemispheres-----------------------------------------------"
   ]
  },
  {
   "cell_type": "code",
   "execution_count": 137,
   "id": "f63f416b-8fbf-4f9f-8e61-d9a75c13f0a0",
   "metadata": {},
   "outputs": [],
   "source": [
    "hemisphere_url = 'https://marshemispheres.com/'\n",
    "browser.visit(hemisphere_url)"
   ]
  },
  {
   "cell_type": "code",
   "execution_count": 193,
   "id": "c9ee4880-559e-4ff0-a6b9-e5d38875875b",
   "metadata": {},
   "outputs": [],
   "source": [
    "#print browser html\n",
    "links = browser.find_by_css(\"a.product-item img\")\n",
    "\n",
    "#print links\n",
    "number_of_links = range(len(links))\n",
    "mars_hemispheres = []\n",
    "\n",
    "#search and grab hemispheres from webpage\n",
    "for index in number_of_links:\n",
    "    hemispheres = {}\n",
    "    browser.find_by_css(\"a.product-item img\")[index].click()\n",
    "    \n",
    "    \n",
    "    title = browser.find_by_css(\"h2.title\").text\n",
    "    mars_image = browser.links.find_by_text(\"Sample\").first[\"href\"]\n",
    "    hemispheres[\"title\"] = title\n",
    "    hemispheres[\"url\"] = mars_image\n",
    "    mars_hemispheres.append(hemispheres)\n",
    "    #print (title_text, mars_image)\n",
    "    #print(\"\")\n",
    "    browser.back()\n",
    "    \n",
    "for item in mars_hemispheres:\n",
    "    print (item)\n",
    "    "
   ]
  },
  {
   "cell_type": "code",
   "execution_count": null,
   "id": "f8f05998-69f0-4bce-a7ca-1e663338abad",
   "metadata": {},
   "outputs": [],
   "source": []
  },
  {
   "cell_type": "code",
   "execution_count": 194,
   "id": "336a31dd-268e-4aab-a7ed-39e174030d19",
   "metadata": {},
   "outputs": [],
   "source": [
    "html = browser.html\n",
    "#print (html)\n",
    "mars_hemispheres_image_soup =soup(html,\"html.parser\") \n",
    "#print (space_image_soup)"
   ]
  },
  {
   "cell_type": "code",
   "execution_count": 195,
   "id": "661fb09a-336c-4fab-9df3-62100dee9872",
   "metadata": {},
   "outputs": [
    {
     "name": "stdout",
     "output_type": "stream",
     "text": [
      "image/featured/mars1.jpg\n"
     ]
    }
   ],
   "source": [
    "image_element = mars_hemispheres_image_soup.select_one(\"img.headerimage.fade-in\")\n",
    "print(image_element[\"src\"])"
   ]
  },
  {
   "cell_type": "code",
   "execution_count": 145,
   "id": "7f9159de-449c-437b-b397-4c80aca14636",
   "metadata": {},
   "outputs": [],
   "source": [
    "browser.quit()"
   ]
  },
  {
   "cell_type": "code",
   "execution_count": 196,
   "id": "ef120b69-ec27-4a31-9e57-b07b6420814c",
   "metadata": {},
   "outputs": [
    {
     "data": {
      "text/plain": [
       "'https://marshemispheres.com/'"
      ]
     },
     "execution_count": 196,
     "metadata": {},
     "output_type": "execute_result"
    }
   ],
   "source": [
    "#print mars hemispheres\n",
    "hemisphere_url"
   ]
  },
  {
   "cell_type": "code",
   "execution_count": null,
   "id": "d124ede3-a806-47bc-a8e4-0ea53796aa7d",
   "metadata": {},
   "outputs": [],
   "source": []
  }
 ],
 "metadata": {
  "kernelspec": {
   "display_name": "Python 3",
   "language": "python",
   "name": "python3"
  },
  "language_info": {
   "codemirror_mode": {
    "name": "ipython",
    "version": 3
   },
   "file_extension": ".py",
   "mimetype": "text/x-python",
   "name": "python",
   "nbconvert_exporter": "python",
   "pygments_lexer": "ipython3",
   "version": "3.8.8"
  }
 },
 "nbformat": 4,
 "nbformat_minor": 5
}
